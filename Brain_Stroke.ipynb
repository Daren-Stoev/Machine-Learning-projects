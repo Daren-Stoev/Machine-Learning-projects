{
  "cells": [
    {
      "cell_type": "markdown",
      "metadata": {
        "id": "view-in-github",
        "colab_type": "text"
      },
      "source": [
        "<a href=\"https://colab.research.google.com/github/Daren-Stoev/Machine-Learning-projects/blob/main/Brain_Stroke.ipynb\" target=\"_parent\"><img src=\"https://colab.research.google.com/assets/colab-badge.svg\" alt=\"Open In Colab\"/></a>"
      ]
    },
    {
      "cell_type": "markdown",
      "source": [
        "# Importing and editing the data\n"
      ],
      "metadata": {
        "id": "SSIERmhrR2O1"
      }
    },
    {
      "cell_type": "markdown",
      "source": [
        "Importing most important libraries and the dataset"
      ],
      "metadata": {
        "id": "tW9iZrNBQSD7"
      }
    },
    {
      "cell_type": "code",
      "source": [
        "from google.colab import drive\n",
        "drive.mount('/content/drive')"
      ],
      "metadata": {
        "colab": {
          "base_uri": "https://localhost:8080/"
        },
        "id": "ykZgVXForIST",
        "outputId": "47d43311-9534-404a-a7f1-e9ba8f3ffbd3"
      },
      "execution_count": 1,
      "outputs": [
        {
          "output_type": "stream",
          "name": "stdout",
          "text": [
            "Mounted at /content/drive\n"
          ]
        }
      ]
    },
    {
      "cell_type": "code",
      "execution_count": 2,
      "metadata": {
        "pycharm": {
          "name": "#%%\n"
        },
        "id": "uZAFUpe5q-dN"
      },
      "outputs": [],
      "source": [
        "import pandas as pd\n",
        "import numpy as np\n",
        "import matplotlib.pyplot as plt\n",
        "brainstrokes = pd.read_csv(\"/content/drive/MyDrive/Colab Notebooks/BrainStroke.csv\")"
      ]
    },
    {
      "cell_type": "code",
      "execution_count": null,
      "metadata": {
        "pycharm": {
          "name": "#%%\n"
        },
        "id": "ZEwTuuSGq-dR"
      },
      "outputs": [],
      "source": [
        "print(brainstrokes.head())"
      ]
    },
    {
      "cell_type": "code",
      "execution_count": null,
      "metadata": {
        "pycharm": {
          "name": "#%%\n"
        },
        "id": "LFEUi1bfq-dT"
      },
      "outputs": [],
      "source": [
        "print(brainstrokes.describe())"
      ]
    },
    {
      "cell_type": "markdown",
      "source": [
        "Checking What we have to look for in the results"
      ],
      "metadata": {
        "id": "9Vb4nAREQcET"
      }
    },
    {
      "cell_type": "code",
      "execution_count": 5,
      "metadata": {
        "pycharm": {
          "name": "#%%\n"
        },
        "id": "Ol0bd-0fq-dU",
        "outputId": "97b86d5e-fec8-4807-f457-b39f752edf52",
        "colab": {
          "base_uri": "https://localhost:8080/"
        }
      },
      "outputs": [
        {
          "output_type": "stream",
          "name": "stdout",
          "text": [
            "Target labels [1 0]\n"
          ]
        }
      ],
      "source": [
        "print(\"Target labels\", brainstrokes[\"stroke\"].unique())"
      ]
    },
    {
      "cell_type": "markdown",
      "source": [
        "Replacing the null cells with 0"
      ],
      "metadata": {
        "id": "JAJ9ya2uQgO5"
      }
    },
    {
      "cell_type": "code",
      "source": [
        "brainstrokes = pd.get_dummies(brainstrokes, dummy_na=True)\n",
        "brainstrokes.shape\n",
        "brainstrokes = brainstrokes.replace(0,0.0)\n",
        "brainstrokes"
      ],
      "metadata": {
        "id": "smsdUCnBrmtW"
      },
      "execution_count": null,
      "outputs": []
    },
    {
      "cell_type": "markdown",
      "source": [
        "Visualizing the dataset"
      ],
      "metadata": {
        "id": "3YCqIQ_7QqKc"
      }
    },
    {
      "cell_type": "code",
      "source": [
        "import plotly.express as px\n",
        "fig = px.scatter(brainstrokes, x=\"age\", y=\"bmi\", color=\"stroke\")\n",
        "fig.show()"
      ],
      "metadata": {
        "id": "KAfoHd8xtxyN"
      },
      "execution_count": null,
      "outputs": []
    },
    {
      "cell_type": "markdown",
      "source": [
        "Normalizing the data"
      ],
      "metadata": {
        "id": "q4nOUaVeQtBB"
      }
    },
    {
      "cell_type": "code",
      "source": [
        "numeric_features = brainstrokes.dtypes[brainstrokes.dtypes != 'object'].index\n",
        "df = brainstrokes[numeric_features]\n",
        "normalized_df=(df-df.min())/(df.max()-df.min())\n"
      ],
      "metadata": {
        "id": "uXJfx8Aus1oL"
      },
      "execution_count": 8,
      "outputs": []
    },
    {
      "cell_type": "code",
      "source": [
        "brainstrokes[numeric_features] = normalized_df\n",
        "brainstrokes[numeric_features] = brainstrokes[numeric_features].fillna(0.0)\n",
        "\n",
        "brainstrokes"
      ],
      "metadata": {
        "id": "FCb7piPttTIl"
      },
      "execution_count": null,
      "outputs": []
    },
    {
      "cell_type": "markdown",
      "source": [
        "Getting the training data,test data, validation data and the labels"
      ],
      "metadata": {
        "id": "7WCu53tIQyMS"
      }
    },
    {
      "cell_type": "code",
      "execution_count": 10,
      "metadata": {
        "pycharm": {
          "name": "#%%\n"
        },
        "id": "Jrt4zN2Aq-dU"
      },
      "outputs": [],
      "source": [
        "x = brainstrokes.drop(\"stroke\", axis = 1)\n",
        "y = brainstrokes[\"stroke\"]"
      ]
    },
    {
      "cell_type": "code",
      "execution_count": 11,
      "metadata": {
        "pycharm": {
          "name": "#%%\n"
        },
        "id": "IGH_3gT9q-dV",
        "colab": {
          "base_uri": "https://localhost:8080/"
        },
        "outputId": "d206e807-5320-4455-ee52-25939260df3e"
      },
      "outputs": [
        {
          "output_type": "stream",
          "name": "stdout",
          "text": [
            "Samples in Train Set: 3984\n",
            "Samples in Validation Set: 498\n",
            "Samples in Test Set: 499\n"
          ]
        }
      ],
      "source": [
        "from sklearn.model_selection import train_test_split\n",
        "x_train,x_test,y_train,y_test = train_test_split(x,y,test_size = 0.2, random_state = 0)\n",
        "x_val, x_test, y_val, y_test = train_test_split(x_test, y_test, test_size=0.5, random_state=8)\n",
        "\n",
        "print('Samples in Train Set:', len(x_train))\n",
        "print('Samples in Validation Set:', len(x_val))\n",
        "print('Samples in Test Set:', len(x_test))"
      ]
    },
    {
      "cell_type": "markdown",
      "source": [
        "Balancing the data in order for the model to not get too influenced"
      ],
      "metadata": {
        "id": "LWicbTlcQ9FV"
      }
    },
    {
      "cell_type": "code",
      "source": [
        "from imblearn.over_sampling import SMOTE #balance classes\n",
        "sm = SMOTE(random_state=8)\n",
        "\n",
        "#create new training set with SMOTE object\n",
        "x_bal, y_bal = sm.fit_resample(x_train, y_train)\n",
        "\n",
        "#Displays perccent of each class\n",
        "print('Initial Dataset')\n",
        "print('Percent \"stroke\":', y_train.sum()/len(y_train))\n",
        "print('Balanced Dataset')\n",
        "print('Percent \"stroke\":', y_bal.sum()/len(y_bal))"
      ],
      "metadata": {
        "colab": {
          "base_uri": "https://localhost:8080/"
        },
        "id": "K2bF2FlR626k",
        "outputId": "44e75388-e120-4375-d773-8be2a487c4bc"
      },
      "execution_count": 12,
      "outputs": [
        {
          "output_type": "stream",
          "name": "stdout",
          "text": [
            "Initial Dataset\n",
            "Percent \"stroke\": 0.04969879518072289\n",
            "Balanced Dataset\n",
            "Percent \"stroke\": 0.5\n"
          ]
        }
      ]
    },
    {
      "cell_type": "markdown",
      "source": [
        "Adding an array in which we put different models' accuraccy"
      ],
      "metadata": {
        "id": "j04Dw07GSWEY"
      }
    },
    {
      "cell_type": "code",
      "source": [
        "models_accuracy = []\n",
        "models_recall = []\n",
        "models_precision = []"
      ],
      "metadata": {
        "id": "VtNaMmWrSb9v"
      },
      "execution_count": 230,
      "outputs": []
    },
    {
      "cell_type": "markdown",
      "source": [
        "# KNN model"
      ],
      "metadata": {
        "id": "tCkEHgH8RGB5"
      }
    },
    {
      "cell_type": "markdown",
      "source": [
        "Creating the model and assigning the number of neighbours"
      ],
      "metadata": {
        "id": "G-BD5H_YRMsJ"
      }
    },
    {
      "cell_type": "code",
      "execution_count": 307,
      "metadata": {
        "pycharm": {
          "name": "#%%\n"
        },
        "id": "bi1ljb09q-dV",
        "outputId": "c8e7d79b-1a70-45d1-d566-7797d4789b19",
        "colab": {
          "base_uri": "https://localhost:8080/"
        }
      },
      "outputs": [
        {
          "output_type": "execute_result",
          "data": {
            "text/plain": [
              "KNeighborsClassifier()"
            ]
          },
          "metadata": {},
          "execution_count": 307
        }
      ],
      "source": [
        "from sklearn.neighbors import KNeighborsClassifier\n",
        "knn = KNeighborsClassifier(n_neighbors=5)\n",
        "knn.fit(x_train, y_train)"
      ]
    },
    {
      "cell_type": "markdown",
      "source": [
        "Testing the model"
      ],
      "metadata": {
        "id": "c-DWLGN6RSg8"
      }
    },
    {
      "cell_type": "code",
      "execution_count": 309,
      "metadata": {
        "pycharm": {
          "name": "#%%\n"
        },
        "id": "yngw31oGq-dW",
        "colab": {
          "base_uri": "https://localhost:8080/"
        },
        "outputId": "8359b0dd-9e0f-4f31-f83f-f87a8fbb5030"
      },
      "outputs": [
        {
          "output_type": "stream",
          "name": "stdout",
          "text": [
            "Prediction: [[1.  0. ]\n",
            " [0.8 0.2]\n",
            " [1.  0. ]\n",
            " ...\n",
            " [1.  0. ]\n",
            " [1.  0. ]\n",
            " [1.  0. ]]\n",
            "Prediction: [0. 0. 0. ... 0. 0. 0.]\n"
          ]
        }
      ],
      "source": [
        "prediction = knn.predict(x_test)\n",
        "predictionChance = knn.predict_proba(x_test)\n",
        "print(\"Prediction: {}\".format(predictionChance))\n",
        "print(\"Prediction: {}\".format(prediction))"
      ]
    },
    {
      "cell_type": "code",
      "source": [
        "knn_acc = accuracy_score(y_test,knn.predict(x_test))*100\n",
        "knn_acc"
      ],
      "metadata": {
        "colab": {
          "base_uri": "https://localhost:8080/"
        },
        "id": "HUHGOY_uQeMA",
        "outputId": "51710a38-028a-4117-e43c-4023152b702a"
      },
      "execution_count": 310,
      "outputs": [
        {
          "output_type": "execute_result",
          "data": {
            "text/plain": [
              "95.58528428093645"
            ]
          },
          "metadata": {},
          "execution_count": 310
        }
      ]
    },
    {
      "cell_type": "code",
      "source": [
        "models_recall.append(recall_score(y_test,knn.predict(x_test))*100)\n",
        "models_precision.append(precision_score(y_test,knn.predict(x_test))*100)\n",
        "models_accuracy.append(knn_acc*100)"
      ],
      "metadata": {
        "id": "QWbXQ9isjs6J"
      },
      "execution_count": null,
      "outputs": []
    },
    {
      "cell_type": "code",
      "source": [
        "models_recall\n",
        "models_precision"
      ],
      "metadata": {
        "colab": {
          "base_uri": "https://localhost:8080/"
        },
        "id": "U-a3O_SUbPHV",
        "outputId": "df76341f-4c6c-4acf-8143-9e755fcf33f2"
      },
      "execution_count": 232,
      "outputs": [
        {
          "output_type": "execute_result",
          "data": {
            "text/plain": [
              "[40.0]"
            ]
          },
          "metadata": {},
          "execution_count": 232
        }
      ]
    },
    {
      "cell_type": "markdown",
      "source": [
        "# Neural Network with TensorFlow"
      ],
      "metadata": {
        "id": "QwzNvpPARb7g"
      }
    },
    {
      "cell_type": "code",
      "execution_count": 76,
      "metadata": {
        "pycharm": {
          "name": "#%%\n"
        },
        "id": "cdd64f85q-dX"
      },
      "outputs": [],
      "source": [
        "import tensorflow as tf\n",
        "import keras as keras\n",
        "from tensorflow.keras.layers import Embedding, LSTM, Dense, Bidirectional\n",
        "from tensorflow.keras.models import Sequential\n",
        "from tensorflow.keras.optimizers import Adam\n"
      ]
    },
    {
      "cell_type": "markdown",
      "source": [
        "Creating a custom model"
      ],
      "metadata": {
        "id": "nFMnoLZrRgfA"
      }
    },
    {
      "cell_type": "code",
      "source": [
        "class MyModel(tf.keras.Model):\n",
        "\n",
        "  def __init__(self):\n",
        "    super().__init__()\n",
        "    self.dense1 = tf.keras.layers.Dense(25, activation=tf.nn.relu)\n",
        "    #self.dense2 = tf.keras.layers.Dense(1, activation=tf.nn.relu)\n",
        "    self.dense2 = tf.keras.layers.Dense(64, activation=tf.nn.relu)\n",
        "    self.dense3 = tf.keras.layers.Dense(256, activation=tf.nn.sigmoid)\n",
        "    self.dense4 = tf.keras.layers.Dense(128, activation=tf.nn.sigmoid)\n",
        "    self.dense5 = tf.keras.layers.Dense(64, activation=tf.nn.sigmoid)\n",
        "    self.dense6 = tf.keras.layers.Dense(32, activation=tf.nn.sigmoid)\n",
        "    self.dense7 = tf.keras.layers.Dense(1, activation=tf.nn.sigmoid)\n",
        "\n",
        "  def call(self, inputs):\n",
        "    x = self.dense1(inputs)\n",
        "    x = self.dense2(x)\n",
        "    x = self.dense3(x)\n",
        "    x = self.dense4(x)\n",
        "    x = self.dense5(x)\n",
        "    x = self.dense6(x)\n",
        "    x = self.dense7(x)\n",
        "    return x"
      ],
      "metadata": {
        "id": "TDVpvq6f4aL1"
      },
      "execution_count": 77,
      "outputs": []
    },
    {
      "cell_type": "markdown",
      "source": [
        "Training the model"
      ],
      "metadata": {
        "id": "m197bFTNRi-4"
      }
    },
    {
      "cell_type": "code",
      "source": [
        "model2 = MyModel()\n",
        "epoch_number = 512\n",
        "model2.compile(loss = 'BinaryCrossentropy',optimizer = Adam(lr = 0.00003), metrics = ['accuracy'])\n",
        "history2 = model2.fit(x_bal,y_bal,epochs = epoch_number,validation_data=(x_val, y_val), verbose = 1)"
      ],
      "metadata": {
        "id": "OJ44CLtT5S-2"
      },
      "execution_count": null,
      "outputs": []
    },
    {
      "cell_type": "code",
      "source": [
        "print(history2.history.keys())"
      ],
      "metadata": {
        "colab": {
          "base_uri": "https://localhost:8080/"
        },
        "id": "jz6bPZstA0pT",
        "outputId": "69915d55-eb06-403f-c9de-82b8a6a655da"
      },
      "execution_count": 79,
      "outputs": [
        {
          "output_type": "stream",
          "name": "stdout",
          "text": [
            "dict_keys(['loss', 'accuracy', 'val_loss', 'val_accuracy'])\n"
          ]
        }
      ]
    },
    {
      "cell_type": "code",
      "source": [
        "nnPred = model2.predict(x_test)\n",
        "print(nnPred)\n"
      ],
      "metadata": {
        "id": "uWvGztsi148i"
      },
      "execution_count": null,
      "outputs": []
    },
    {
      "cell_type": "markdown",
      "source": [
        "Checking the accuracy of the model"
      ],
      "metadata": {
        "id": "vMvweOuqRqmn"
      }
    },
    {
      "cell_type": "code",
      "source": [
        "from sklearn.metrics import confusion_matrix,ConfusionMatrixDisplay\n",
        "y_pred=[]\n",
        "for i in model2.predict(x_test):\n",
        "    if i>0.8:\n",
        "        y_pred.append(1)\n",
        "    if i<0.8:\n",
        "        y_pred.append(0)\n",
        "cm = ConfusionMatrixDisplay(confusion_matrix=confusion_matrix(y_test,y_pred))\n",
        "cm.plot()\n",
        "#print(confusion_matrix(y_test,y_pred))\n",
        "\n",
        "\n",
        "from sklearn.metrics import accuracy_score, recall_score ,precision_score, f1_score#evaluate model\n",
        "threshold = 0.5\n",
        "test_preds = [1. if i > threshold else 0. for i in nnPred]\n",
        "test_acc = accuracy_score(y_test, test_preds)\n",
        "test_rec = recall_score(y_test, test_preds)\n",
        "test_pre = precision_score(y_test, test_preds)\n",
        "models_accuracy.append(test_acc*100)\n",
        "models_recall.append(test_rec*100)\n",
        "models_precision.append(test_pre*100)\n",
        "print('Test Set Metrics')\n",
        "print('Model Accuracy:', test_acc)\n",
        "print('Model Recall:', test_rec)\n",
        "print('Model Precision:', test_pre)"
      ],
      "metadata": {
        "id": "7S404u1j-Gic",
        "colab": {
          "base_uri": "https://localhost:8080/",
          "height": 349
        },
        "outputId": "09329d69-a3aa-44da-fd9b-ecb4360c615e"
      },
      "execution_count": 233,
      "outputs": [
        {
          "output_type": "stream",
          "name": "stdout",
          "text": [
            "Test Set Metrics\n",
            "Model Accuracy: 0.7478260869565218\n",
            "Model Recall: 0.5538461538461539\n",
            "Model Precision: 0.09375\n"
          ]
        },
        {
          "output_type": "display_data",
          "data": {
            "text/plain": [
              "<Figure size 432x288 with 2 Axes>"
            ],
            "image/png": "[encoded data removed]"
          },
          "metadata": {
            "needs_background": "light"
          }
        }
      ]
    },
    {
      "cell_type": "markdown",
      "source": [
        "Visalizing the loss of the training"
      ],
      "metadata": {
        "id": "Pm8BvqHiRtuK"
      }
    },
    {
      "cell_type": "code",
      "source": [
        "from sklearn.metrics import accuracy_score\n",
        "accuracy=accuracy_score(y_test,y_pred)\n",
        "accuracy"
      ],
      "metadata": {
        "id": "b0TsjbR4-yMo",
        "colab": {
          "base_uri": "https://localhost:8080/"
        },
        "outputId": "b74255e9-b37b-4e0e-bb1a-727f699d7e09"
      },
      "execution_count": 82,
      "outputs": [
        {
          "output_type": "execute_result",
          "data": {
            "text/plain": [
              "0.7478260869565218"
            ]
          },
          "metadata": {},
          "execution_count": 82
        }
      ]
    },
    {
      "cell_type": "code",
      "source": [
        "import matplotlib.pyplot as plt\n",
        "\n",
        "loss_train = history2.history['loss']\n",
        "epochs = range(1,epoch_number+1)\n",
        "plt.plot(epochs, loss_train, 'g', label='Training loss')\n",
        "plt.title('Training and Validation loss')\n",
        "plt.xlabel('Epochs')\n",
        "plt.ylabel('Loss')\n",
        "plt.legend()\n",
        "plt.show()"
      ],
      "metadata": {
        "id": "QdXxJpWA3AOI",
        "colab": {
          "base_uri": "https://localhost:8080/",
          "height": 295
        },
        "outputId": "df2a9fa9-9ab9-497e-d45f-76d405e34723"
      },
      "execution_count": 100,
      "outputs": [
        {
          "output_type": "display_data",
          "data": {
            "text/plain": [
              "<Figure size 432x288 with 1 Axes>"
            ],
            "image/png": "[encoded data removed]"
          },
          "metadata": {
            "needs_background": "light"
          }
        }
      ]
    },
    {
      "cell_type": "markdown",
      "source": [
        "# Linear regression\n"
      ],
      "metadata": {
        "id": "0fYJpTacR9et"
      }
    },
    {
      "cell_type": "code",
      "source": [
        "import matplotlib.pyplot as plt\n",
        "from sklearn import datasets,linear_model\n",
        "from sklearn.metrics import mean_squared_error, r2_score"
      ],
      "metadata": {
        "id": "iKRuqOhoSbkf"
      },
      "execution_count": 44,
      "outputs": []
    },
    {
      "cell_type": "code",
      "source": [
        "brainstrokes_x = brainstrokes\n",
        "brainstrokes_x_train = brainstrokes_x[:-900]\n",
        "brainstrokes_x_test = brainstrokes_x[-900:]\n",
        "brainstrokes_age_train = brainstrokes_x[\"age\"][:-900]\n",
        "brainstrokes_age_test = brainstrokes_x[\"age\"][-900:]\n",
        "brainstrokes_y_train = brainstrokes[\"stroke\"][:-900]\n",
        "brainstrokes_y_test = brainstrokes[\"stroke\"][-900:]"
      ],
      "metadata": {
        "id": "QG7kVNT7Tlmp"
      },
      "execution_count": 113,
      "outputs": []
    },
    {
      "cell_type": "code",
      "source": [
        "brainstrokes_x.shape"
      ],
      "metadata": {
        "colab": {
          "base_uri": "https://localhost:8080/"
        },
        "id": "XMisTJJlYbv5",
        "outputId": "d5912410-21f5-4384-c132-d65cebb5f0b3"
      },
      "execution_count": 46,
      "outputs": [
        {
          "output_type": "execute_result",
          "data": {
            "text/plain": [
              "(4981, 25)"
            ]
          },
          "metadata": {},
          "execution_count": 46
        }
      ]
    },
    {
      "cell_type": "code",
      "source": [
        "brainstrokes_x_train.shape"
      ],
      "metadata": {
        "colab": {
          "base_uri": "https://localhost:8080/"
        },
        "id": "vPJal6sMVE12",
        "outputId": "406abf9e-4766-4702-c40b-7fa738e38772"
      },
      "execution_count": 47,
      "outputs": [
        {
          "output_type": "execute_result",
          "data": {
            "text/plain": [
              "(4081, 25)"
            ]
          },
          "metadata": {},
          "execution_count": 47
        }
      ]
    },
    {
      "cell_type": "code",
      "source": [
        "regr = linear_model.LinearRegression()\n",
        "regr.fit(brainstrokes_x_train,brainstrokes_y_train)"
      ],
      "metadata": {
        "colab": {
          "base_uri": "https://localhost:8080/"
        },
        "id": "1HGG3pm7TMfk",
        "outputId": "1d7df6f9-abfa-4dd7-b636-706e60329b54"
      },
      "execution_count": 53,
      "outputs": [
        {
          "output_type": "execute_result",
          "data": {
            "text/plain": [
              "LinearRegression()"
            ]
          },
          "metadata": {},
          "execution_count": 53
        }
      ]
    },
    {
      "cell_type": "code",
      "source": [
        "brainstrokes_y_predict = regr.predict(brainstrokes_x_test)\n",
        "regr.coef_"
      ],
      "metadata": {
        "colab": {
          "base_uri": "https://localhost:8080/"
        },
        "id": "5xZtdDubYkYG",
        "outputId": "d6ecd33f-e5a1-4b74-ed3c-916eeab8ba3a"
      },
      "execution_count": 49,
      "outputs": [
        {
          "output_type": "execute_result",
          "data": {
            "text/plain": [
              "array([ 0.00000000e+00, -1.24900090e-16, -1.15453712e-16,  6.66805095e-16,\n",
              "       -2.61428744e-16,  1.00000000e+00,  1.52116449e-04,  1.52116449e-04,\n",
              "        1.07439951e-05, -2.09882912e-05, -2.09882912e-05, -6.20511693e-05,\n",
              "        6.46409219e-04,  6.46409219e-04,  6.46409219e-04,  6.46409219e-04,\n",
              "        3.46944695e-18,  2.20061689e-02,  2.20061689e-02,  0.00000000e+00,\n",
              "       -2.62898432e-03, -2.62898432e-03, -2.62898432e-03, -2.62898432e-03,\n",
              "        0.00000000e+00])"
            ]
          },
          "metadata": {},
          "execution_count": 49
        }
      ]
    },
    {
      "cell_type": "code",
      "source": [
        "mean_squared_error(brainstrokes_y_test,brainstrokes_y_predict)"
      ],
      "metadata": {
        "colab": {
          "base_uri": "https://localhost:8080/"
        },
        "id": "fMZhwVm0ZBRj",
        "outputId": "1bbbcea1-3a93-4539-ec1e-e149ad65d84c"
      },
      "execution_count": 52,
      "outputs": [
        {
          "output_type": "execute_result",
          "data": {
            "text/plain": [
              "4.502240947443505e-31"
            ]
          },
          "metadata": {},
          "execution_count": 52
        }
      ]
    },
    {
      "cell_type": "code",
      "source": [
        "r2_score(brainstrokes_y_test,brainstrokes_y_predict)"
      ],
      "metadata": {
        "colab": {
          "base_uri": "https://localhost:8080/"
        },
        "id": "Xlszt-62ZIPh",
        "outputId": "626665c7-6376-4b40-a425-5b222e876ed9"
      },
      "execution_count": 51,
      "outputs": [
        {
          "output_type": "execute_result",
          "data": {
            "text/plain": [
              "1.0"
            ]
          },
          "metadata": {},
          "execution_count": 51
        }
      ]
    },
    {
      "cell_type": "code",
      "source": [
        "brainstrokes_y_test.shape"
      ],
      "metadata": {
        "colab": {
          "base_uri": "https://localhost:8080/"
        },
        "id": "Ccz9RmQPL-nD",
        "outputId": "3363e029-7560-4865-a9dc-f6d33613142c"
      },
      "execution_count": 105,
      "outputs": [
        {
          "output_type": "execute_result",
          "data": {
            "text/plain": [
              "(900,)"
            ]
          },
          "metadata": {},
          "execution_count": 105
        }
      ]
    },
    {
      "cell_type": "code",
      "source": [
        "plt.scatter(brainstrokes_x_test,brainstrokes_y_test,color = \"black\")\n",
        "plt.plot(brainstrokes_x_test, brainstrokes_y_predict, color=\"blue\", linewidth=3)\n",
        "\n",
        "plt.xticks(())\n",
        "plt.yticks(())\n",
        "\n",
        "plt.show()"
      ],
      "metadata": {
        "colab": {
          "base_uri": "https://localhost:8080/",
          "height": 632
        },
        "id": "pLnYZcPCLVtm",
        "outputId": "9036fc1c-99fe-4f96-8c67-91bf16d11656"
      },
      "execution_count": 119,
      "outputs": [
        {
          "output_type": "error",
          "ename": "ValueError",
          "evalue": "ignored",
          "traceback": [
            "\u001b[0;31m---------------------------------------------------------------------------\u001b[0m",
            "\u001b[0;31mValueError\u001b[0m                                Traceback (most recent call last)",
            "\u001b[0;32m<ipython-input-119-d308b8102b13>\u001b[0m in \u001b[0;36m<module>\u001b[0;34m\u001b[0m\n\u001b[0;32m----> 1\u001b[0;31m \u001b[0mplt\u001b[0m\u001b[0;34m.\u001b[0m\u001b[0mscatter\u001b[0m\u001b[0;34m(\u001b[0m\u001b[0mbrainstrokes_x_test\u001b[0m\u001b[0;34m,\u001b[0m\u001b[0mbrainstrokes_y_test\u001b[0m\u001b[0;34m,\u001b[0m\u001b[0mcolor\u001b[0m \u001b[0;34m=\u001b[0m \u001b[0;34m\"black\"\u001b[0m\u001b[0;34m)\u001b[0m\u001b[0;34m\u001b[0m\u001b[0;34m\u001b[0m\u001b[0m\n\u001b[0m\u001b[1;32m      2\u001b[0m \u001b[0mplt\u001b[0m\u001b[0;34m.\u001b[0m\u001b[0mplot\u001b[0m\u001b[0;34m(\u001b[0m\u001b[0mbrainstrokes_x_test\u001b[0m\u001b[0;34m,\u001b[0m \u001b[0mbrainstrokes_y_predict\u001b[0m\u001b[0;34m,\u001b[0m \u001b[0mcolor\u001b[0m\u001b[0;34m=\u001b[0m\u001b[0;34m\"blue\"\u001b[0m\u001b[0;34m,\u001b[0m \u001b[0mlinewidth\u001b[0m\u001b[0;34m=\u001b[0m\u001b[0;36m3\u001b[0m\u001b[0;34m)\u001b[0m\u001b[0;34m\u001b[0m\u001b[0;34m\u001b[0m\u001b[0m\n\u001b[1;32m      3\u001b[0m \u001b[0;34m\u001b[0m\u001b[0m\n\u001b[1;32m      4\u001b[0m \u001b[0mplt\u001b[0m\u001b[0;34m.\u001b[0m\u001b[0mxticks\u001b[0m\u001b[0;34m(\u001b[0m\u001b[0;34m(\u001b[0m\u001b[0;34m)\u001b[0m\u001b[0;34m)\u001b[0m\u001b[0;34m\u001b[0m\u001b[0;34m\u001b[0m\u001b[0m\n\u001b[1;32m      5\u001b[0m \u001b[0mplt\u001b[0m\u001b[0;34m.\u001b[0m\u001b[0myticks\u001b[0m\u001b[0;34m(\u001b[0m\u001b[0;34m(\u001b[0m\u001b[0;34m)\u001b[0m\u001b[0;34m)\u001b[0m\u001b[0;34m\u001b[0m\u001b[0;34m\u001b[0m\u001b[0m\n",
            "\u001b[0;32m/usr/local/lib/python3.7/dist-packages/matplotlib/pyplot.py\u001b[0m in \u001b[0;36mscatter\u001b[0;34m(x, y, s, c, marker, cmap, norm, vmin, vmax, alpha, linewidths, verts, edgecolors, plotnonfinite, data, **kwargs)\u001b[0m\n\u001b[1;32m   2814\u001b[0m         \u001b[0mverts\u001b[0m\u001b[0;34m=\u001b[0m\u001b[0mverts\u001b[0m\u001b[0;34m,\u001b[0m \u001b[0medgecolors\u001b[0m\u001b[0;34m=\u001b[0m\u001b[0medgecolors\u001b[0m\u001b[0;34m,\u001b[0m\u001b[0;34m\u001b[0m\u001b[0;34m\u001b[0m\u001b[0m\n\u001b[1;32m   2815\u001b[0m         plotnonfinite=plotnonfinite, **({\"data\": data} if data is not\n\u001b[0;32m-> 2816\u001b[0;31m         None else {}), **kwargs)\n\u001b[0m\u001b[1;32m   2817\u001b[0m     \u001b[0msci\u001b[0m\u001b[0;34m(\u001b[0m\u001b[0m__ret\u001b[0m\u001b[0;34m)\u001b[0m\u001b[0;34m\u001b[0m\u001b[0;34m\u001b[0m\u001b[0m\n\u001b[1;32m   2818\u001b[0m     \u001b[0;32mreturn\u001b[0m \u001b[0m__ret\u001b[0m\u001b[0;34m\u001b[0m\u001b[0;34m\u001b[0m\u001b[0m\n",
            "\u001b[0;32m/usr/local/lib/python3.7/dist-packages/matplotlib/__init__.py\u001b[0m in \u001b[0;36minner\u001b[0;34m(ax, data, *args, **kwargs)\u001b[0m\n\u001b[1;32m   1563\u001b[0m     \u001b[0;32mdef\u001b[0m \u001b[0minner\u001b[0m\u001b[0;34m(\u001b[0m\u001b[0max\u001b[0m\u001b[0;34m,\u001b[0m \u001b[0;34m*\u001b[0m\u001b[0margs\u001b[0m\u001b[0;34m,\u001b[0m \u001b[0mdata\u001b[0m\u001b[0;34m=\u001b[0m\u001b[0;32mNone\u001b[0m\u001b[0;34m,\u001b[0m \u001b[0;34m**\u001b[0m\u001b[0mkwargs\u001b[0m\u001b[0;34m)\u001b[0m\u001b[0;34m:\u001b[0m\u001b[0;34m\u001b[0m\u001b[0;34m\u001b[0m\u001b[0m\n\u001b[1;32m   1564\u001b[0m         \u001b[0;32mif\u001b[0m \u001b[0mdata\u001b[0m \u001b[0;32mis\u001b[0m \u001b[0;32mNone\u001b[0m\u001b[0;34m:\u001b[0m\u001b[0;34m\u001b[0m\u001b[0;34m\u001b[0m\u001b[0m\n\u001b[0;32m-> 1565\u001b[0;31m             \u001b[0;32mreturn\u001b[0m \u001b[0mfunc\u001b[0m\u001b[0;34m(\u001b[0m\u001b[0max\u001b[0m\u001b[0;34m,\u001b[0m \u001b[0;34m*\u001b[0m\u001b[0mmap\u001b[0m\u001b[0;34m(\u001b[0m\u001b[0msanitize_sequence\u001b[0m\u001b[0;34m,\u001b[0m \u001b[0margs\u001b[0m\u001b[0;34m)\u001b[0m\u001b[0;34m,\u001b[0m \u001b[0;34m**\u001b[0m\u001b[0mkwargs\u001b[0m\u001b[0;34m)\u001b[0m\u001b[0;34m\u001b[0m\u001b[0;34m\u001b[0m\u001b[0m\n\u001b[0m\u001b[1;32m   1566\u001b[0m \u001b[0;34m\u001b[0m\u001b[0m\n\u001b[1;32m   1567\u001b[0m         \u001b[0mbound\u001b[0m \u001b[0;34m=\u001b[0m \u001b[0mnew_sig\u001b[0m\u001b[0;34m.\u001b[0m\u001b[0mbind\u001b[0m\u001b[0;34m(\u001b[0m\u001b[0max\u001b[0m\u001b[0;34m,\u001b[0m \u001b[0;34m*\u001b[0m\u001b[0margs\u001b[0m\u001b[0;34m,\u001b[0m \u001b[0;34m**\u001b[0m\u001b[0mkwargs\u001b[0m\u001b[0;34m)\u001b[0m\u001b[0;34m\u001b[0m\u001b[0;34m\u001b[0m\u001b[0m\n",
            "\u001b[0;32m/usr/local/lib/python3.7/dist-packages/matplotlib/cbook/deprecation.py\u001b[0m in \u001b[0;36mwrapper\u001b[0;34m(*args, **kwargs)\u001b[0m\n\u001b[1;32m    356\u001b[0m                 \u001b[0;34mf\"%(removal)s.  If any parameter follows {name!r}, they \"\u001b[0m\u001b[0;34m\u001b[0m\u001b[0;34m\u001b[0m\u001b[0m\n\u001b[1;32m    357\u001b[0m                 f\"should be pass as keyword, not positionally.\")\n\u001b[0;32m--> 358\u001b[0;31m         \u001b[0;32mreturn\u001b[0m \u001b[0mfunc\u001b[0m\u001b[0;34m(\u001b[0m\u001b[0;34m*\u001b[0m\u001b[0margs\u001b[0m\u001b[0;34m,\u001b[0m \u001b[0;34m**\u001b[0m\u001b[0mkwargs\u001b[0m\u001b[0;34m)\u001b[0m\u001b[0;34m\u001b[0m\u001b[0;34m\u001b[0m\u001b[0m\n\u001b[0m\u001b[1;32m    359\u001b[0m \u001b[0;34m\u001b[0m\u001b[0m\n\u001b[1;32m    360\u001b[0m     \u001b[0;32mreturn\u001b[0m \u001b[0mwrapper\u001b[0m\u001b[0;34m\u001b[0m\u001b[0;34m\u001b[0m\u001b[0m\n",
            "\u001b[0;32m/usr/local/lib/python3.7/dist-packages/matplotlib/axes/_axes.py\u001b[0m in \u001b[0;36mscatter\u001b[0;34m(self, x, y, s, c, marker, cmap, norm, vmin, vmax, alpha, linewidths, verts, edgecolors, plotnonfinite, **kwargs)\u001b[0m\n\u001b[1;32m   4389\u001b[0m         \u001b[0my\u001b[0m \u001b[0;34m=\u001b[0m \u001b[0mnp\u001b[0m\u001b[0;34m.\u001b[0m\u001b[0mma\u001b[0m\u001b[0;34m.\u001b[0m\u001b[0mravel\u001b[0m\u001b[0;34m(\u001b[0m\u001b[0my\u001b[0m\u001b[0;34m)\u001b[0m\u001b[0;34m\u001b[0m\u001b[0;34m\u001b[0m\u001b[0m\n\u001b[1;32m   4390\u001b[0m         \u001b[0;32mif\u001b[0m \u001b[0mx\u001b[0m\u001b[0;34m.\u001b[0m\u001b[0msize\u001b[0m \u001b[0;34m!=\u001b[0m \u001b[0my\u001b[0m\u001b[0;34m.\u001b[0m\u001b[0msize\u001b[0m\u001b[0;34m:\u001b[0m\u001b[0;34m\u001b[0m\u001b[0;34m\u001b[0m\u001b[0m\n\u001b[0;32m-> 4391\u001b[0;31m             \u001b[0;32mraise\u001b[0m \u001b[0mValueError\u001b[0m\u001b[0;34m(\u001b[0m\u001b[0;34m\"x and y must be the same size\"\u001b[0m\u001b[0;34m)\u001b[0m\u001b[0;34m\u001b[0m\u001b[0;34m\u001b[0m\u001b[0m\n\u001b[0m\u001b[1;32m   4392\u001b[0m \u001b[0;34m\u001b[0m\u001b[0m\n\u001b[1;32m   4393\u001b[0m         \u001b[0;32mif\u001b[0m \u001b[0ms\u001b[0m \u001b[0;32mis\u001b[0m \u001b[0;32mNone\u001b[0m\u001b[0;34m:\u001b[0m\u001b[0;34m\u001b[0m\u001b[0;34m\u001b[0m\u001b[0m\n",
            "\u001b[0;31mValueError\u001b[0m: x and y must be the same size"
          ]
        },
        {
          "output_type": "display_data",
          "data": {
            "text/plain": [
              "<Figure size 432x288 with 1 Axes>"
            ],
            "image/png": "[encoded data removed]"
          },
          "metadata": {
            "needs_background": "light"
          }
        }
      ]
    },
    {
      "cell_type": "markdown",
      "source": [
        "# Decision Tree"
      ],
      "metadata": {
        "id": "5IWi_lh-cIiL"
      }
    },
    {
      "cell_type": "code",
      "source": [
        "import matplotlib.pyplot as plt\n",
        "from sklearn.tree import DecisionTreeClassifier\n",
        "from sklearn.metrics import accuracy_score\n",
        "from sklearn.metrics import classification_report\n",
        "from sklearn.metrics import confusion_matrix"
      ],
      "metadata": {
        "id": "WEY9XNTdcKdd"
      },
      "execution_count": 54,
      "outputs": []
    },
    {
      "cell_type": "code",
      "source": [
        "clf_gini = DecisionTreeClassifier(criterion = \"gini\", random_state = 8, max_depth = 3,\n",
        "                                  min_samples_leaf=5)\n",
        "clf_gini.fit(x_train,y_train)"
      ],
      "metadata": {
        "id": "h25XweA5dQLq"
      },
      "execution_count": null,
      "outputs": []
    },
    {
      "cell_type": "code",
      "source": [
        "clf_entropy = DecisionTreeClassifier(criterion = \"entropy\", random_state = 8,\n",
        "                                     max_depth = 3, min_samples_leaf = 5)\n",
        "clf_entropy.fit(x_train,y_train)"
      ],
      "metadata": {
        "id": "GxTFssrrdr99"
      },
      "execution_count": null,
      "outputs": []
    },
    {
      "cell_type": "code",
      "source": [
        "gini_y_predict = clf_gini.predict(x_test)\n",
        "models_accuracy.append(accuracy_score(y_test,gini_y_predict)*100)\n",
        "models_recall.append(recall_score(y_test,gini_y_predict)*100)\n",
        "models_precision.append(precision_score(y_test,gini_y_predict)*100)\n",
        "print(confusion_matrix(y_test,gini_y_predict))\n",
        "print(accuracy_score(y_test,gini_y_predict)*100)\n",
        "print(classification_report(y_test,gini_y_predict))\n"
      ],
      "metadata": {
        "id": "0QHt3C3BeAyB"
      },
      "execution_count": null,
      "outputs": []
    },
    {
      "cell_type": "code",
      "source": [
        "entropy_y_predict = clf_entropy.predict(x_test)\n",
        "models_accuracy.append(accuracy_score(y_test,entropy_y_predict)*100)\n",
        "models_recall.append(recall_score(y_test,entropy_y_predict)*100)\n",
        "models_precision.append(precision_score(y_test,entropy_y_predict)*100)\n",
        "print(confusion_matrix(y_test,entropy_y_predict))\n",
        "print(accuracy_score(y_test,entropy_y_predict)*100)\n",
        "print(classification_report(y_test,entropy_y_predict))"
      ],
      "metadata": {
        "id": "eRWi8_s1eXn0"
      },
      "execution_count": null,
      "outputs": []
    },
    {
      "cell_type": "markdown",
      "source": [
        "# Support Vector Machine (SVM)"
      ],
      "metadata": {
        "id": "8dPuPGYa6AXn"
      }
    },
    {
      "cell_type": "code",
      "source": [
        "from sklearn.datasets import make_blobs\n",
        "m,n=make_blobs(n_samples=500,centers=2,\n",
        "           random_state=0,cluster_std=0.40)\n",
        "plt.scatter(m[:,0],m[:,1],c=n,s=50,cmap='plasma')"
      ],
      "metadata": {
        "colab": {
          "base_uri": "https://localhost:8080/",
          "height": 282
        },
        "id": "Zm_IT6iH55ED",
        "outputId": "dca6fd6a-8d72-414b-e9af-7261146099bb"
      },
      "execution_count": 62,
      "outputs": [
        {
          "output_type": "execute_result",
          "data": {
            "text/plain": [
              "<matplotlib.collections.PathCollection at 0x7f0f8a2f7950>"
            ]
          },
          "metadata": {},
          "execution_count": 62
        },
        {
          "output_type": "display_data",
          "data": {
            "text/plain": [
              "<Figure size 432x288 with 1 Axes>"
            ],
            "image/png": "[encoded data removed]"
          },
          "metadata": {
            "needs_background": "light"
          }
        }
      ]
    },
    {
      "cell_type": "code",
      "source": [
        "xfit = np.linspace(-1,3.5)\n",
        "plt.scatter(m[:,0],m[:,1], c = n, s = 50, cmap = 'plasma')"
      ],
      "metadata": {
        "colab": {
          "base_uri": "https://localhost:8080/",
          "height": 282
        },
        "id": "CfeIEhBR8fZz",
        "outputId": "c74f8323-6786-4fd7-bd5a-e7baec09a009"
      },
      "execution_count": 63,
      "outputs": [
        {
          "output_type": "execute_result",
          "data": {
            "text/plain": [
              "<matplotlib.collections.PathCollection at 0x7f0f8a2bf210>"
            ]
          },
          "metadata": {},
          "execution_count": 63
        },
        {
          "output_type": "display_data",
          "data": {
            "text/plain": [
              "<Figure size 432x288 with 1 Axes>"
            ],
            "image/png": "[encoded data removed]"
          },
          "metadata": {
            "needs_background": "light"
          }
        }
      ]
    },
    {
      "cell_type": "code",
      "source": [
        "for p, b, d in [(1, 0.65, 0.33), (0.5, 1.6, 0.55), (-0.2, 2.9, 0.2)]:\n",
        "        yfit = p * xfit + b\n",
        "        plt.plot(xfit, yfit, '-k')\n",
        "        plt.fill_between(xfit, yfit - d, yfit + d, edgecolor='blue',\n",
        "        color='#AFFEDC', alpha=0.4)"
      ],
      "metadata": {
        "colab": {
          "base_uri": "https://localhost:8080/",
          "height": 265
        },
        "id": "YNSG2IeM81fd",
        "outputId": "0c9a2914-5c00-44b6-d37d-dfa5d765514b"
      },
      "execution_count": 65,
      "outputs": [
        {
          "output_type": "display_data",
          "data": {
            "text/plain": [
              "<Figure size 432x288 with 1 Axes>"
            ],
            "image/png": "[encoded data removed]"
          },
          "metadata": {
            "needs_background": "light"
          }
        }
      ]
    },
    {
      "cell_type": "markdown",
      "source": [
        "# Naive Bayes"
      ],
      "metadata": {
        "id": "phhYkvQ_9Cnu"
      }
    },
    {
      "cell_type": "code",
      "source": [
        "from sklearn.naive_bayes import GaussianNB\n",
        "from sklearn.naive_bayes import MultinomialNB\n",
        "from sklearn import datasets\n",
        "from sklearn.metrics import confusion_matrix\n",
        "from sklearn.model_selection import train_test_split\n",
        "from sklearn.metrics import plot_confusion_matrix"
      ],
      "metadata": {
        "id": "yu-Hz4Gi9FQZ"
      },
      "execution_count": 66,
      "outputs": []
    },
    {
      "cell_type": "code",
      "source": [
        "x_train,x_test,y_train,y_test = train_test_split(x,y,test_size=0.3,random_state=0)\n",
        "gnb = GaussianNB()\n",
        "mnb = MultinomialNB()\n",
        "model_gnb = gnb.fit(x_train,y_train)\n",
        "model_mnb = mnb.fit(x_train,y_train)"
      ],
      "metadata": {
        "id": "b-tdotMz9c1_"
      },
      "execution_count": 169,
      "outputs": []
    },
    {
      "cell_type": "code",
      "source": [
        "y_pred_gnb = model_gnb.predict(x_test)\n",
        "models_accuracy.append(accuracy_score(y_test,y_pred_gnb)*100)\n",
        "models_precision.append(precision_score(y_test,y_pred_gnb)*100)\n",
        "models_recall.append(recall_score(y_test,y_pred_gnb)*100)\n",
        "cnf_matrix_gnb = confusion_matrix(y_test, y_pred_gnb)\n",
        "cnf_matrix_gnb"
      ],
      "metadata": {
        "colab": {
          "base_uri": "https://localhost:8080/"
        },
        "id": "eO6_7IFF-gAR",
        "outputId": "c578de9a-d688-48bc-af3d-059613f4311f"
      },
      "execution_count": 236,
      "outputs": [
        {
          "output_type": "execute_result",
          "data": {
            "text/plain": [
              "array([[1147,  283],\n",
              "       [  26,   39]])"
            ]
          },
          "metadata": {},
          "execution_count": 236
        }
      ]
    },
    {
      "cell_type": "code",
      "source": [
        "y_pred_mnb = model_mnb.predict(x_test)\n",
        "models_accuracy.append(accuracy_score(y_test,y_pred_mnb)*100)\n",
        "models_precision.append(precision_score(y_test,y_pred_mnb)*100)\n",
        "models_recall.append(recall_score(y_test,y_pred_mnb)*100)\n",
        "cnf_matrix_mnb = confusion_matrix(y_test,y_pred_mnb)\n",
        "cnf_matrix_mnb"
      ],
      "metadata": {
        "colab": {
          "base_uri": "https://localhost:8080/"
        },
        "id": "9OMxYugK-rne",
        "outputId": "da77e8cc-dfa3-4271-92fc-95ddcd6c6682"
      },
      "execution_count": 237,
      "outputs": [
        {
          "output_type": "execute_result",
          "data": {
            "text/plain": [
              "array([[1428,    2],\n",
              "       [  65,    0]])"
            ]
          },
          "metadata": {},
          "execution_count": 237
        }
      ]
    },
    {
      "cell_type": "code",
      "source": [
        "plot_confusion_matrix(model_gnb,x_test,y_test)  \n",
        "plt.show()\n",
        "plot_confusion_matrix(model_mnb,x_test,y_test)  \n",
        "plt.show()"
      ],
      "metadata": {
        "colab": {
          "base_uri": "https://localhost:8080/",
          "height": 700
        },
        "id": "CyCZ_7SOAYQZ",
        "outputId": "5c7691d2-0a01-4072-ed65-006b2a722dc4"
      },
      "execution_count": 70,
      "outputs": [
        {
          "output_type": "stream",
          "name": "stderr",
          "text": [
            "/usr/local/lib/python3.7/dist-packages/sklearn/utils/deprecation.py:87: FutureWarning:\n",
            "\n",
            "Function plot_confusion_matrix is deprecated; Function `plot_confusion_matrix` is deprecated in 1.0 and will be removed in 1.2. Use one of the class methods: ConfusionMatrixDisplay.from_predictions or ConfusionMatrixDisplay.from_estimator.\n",
            "\n"
          ]
        },
        {
          "output_type": "display_data",
          "data": {
            "text/plain": [
              "<Figure size 432x288 with 2 Axes>"
            ],
            "image/png": "[encoded data removed]"
          },
          "metadata": {
            "needs_background": "light"
          }
        },
        {
          "output_type": "stream",
          "name": "stderr",
          "text": [
            "/usr/local/lib/python3.7/dist-packages/sklearn/utils/deprecation.py:87: FutureWarning:\n",
            "\n",
            "Function plot_confusion_matrix is deprecated; Function `plot_confusion_matrix` is deprecated in 1.0 and will be removed in 1.2. Use one of the class methods: ConfusionMatrixDisplay.from_predictions or ConfusionMatrixDisplay.from_estimator.\n",
            "\n"
          ]
        },
        {
          "output_type": "display_data",
          "data": {
            "text/plain": [
              "<Figure size 432x288 with 2 Axes>"
            ],
            "image/png": "[encoded data removed]"
          },
          "metadata": {
            "needs_background": "light"
          }
        }
      ]
    },
    {
      "cell_type": "code",
      "source": [
        "plot_confusion_matrix(model_mnb,x_test,y_test)  \n",
        "plt.show()"
      ],
      "metadata": {
        "colab": {
          "base_uri": "https://localhost:8080/",
          "height": 368
        },
        "id": "gBGb1v6xBAvV",
        "outputId": "4f5c32b6-f507-427b-a385-4f965731b0cb"
      },
      "execution_count": 71,
      "outputs": [
        {
          "output_type": "stream",
          "name": "stderr",
          "text": [
            "/usr/local/lib/python3.7/dist-packages/sklearn/utils/deprecation.py:87: FutureWarning:\n",
            "\n",
            "Function plot_confusion_matrix is deprecated; Function `plot_confusion_matrix` is deprecated in 1.0 and will be removed in 1.2. Use one of the class methods: ConfusionMatrixDisplay.from_predictions or ConfusionMatrixDisplay.from_estimator.\n",
            "\n"
          ]
        },
        {
          "output_type": "display_data",
          "data": {
            "text/plain": [
              "<Figure size 432x288 with 2 Axes>"
            ],
            "image/png": "[encoded data removed]"
          },
          "metadata": {
            "needs_background": "light"
          }
        }
      ]
    },
    {
      "cell_type": "markdown",
      "source": [
        "# Comparing the models(Accuracy, recall, precision)"
      ],
      "metadata": {
        "id": "PeYJgtH0P1JK"
      }
    },
    {
      "cell_type": "code",
      "source": [
        "import matplotlib.pyplot as plt\n",
        "names = []\n",
        "names.append(\"KNN - 5\")\n",
        "names.append(\"Neural Network\")\n",
        "names.append(\"Decision Tree - GINI\")\n",
        "names.append(\"Decision Tree - Entropy\")\n",
        "names.append(\"NB - Gaussian\")\n",
        "names.append(\"NB - Multinomial\")\n",
        "fig = plt.figure(figsize = (10,6), dpi = 60)\n",
        "fig.suptitle('Algorithm Comparison')\n",
        "ax = fig.add_axes([0,0,1,1])\n",
        "ax.bar(names,models_accuracy)\n",
        "for i in range(len(models_accuracy)):\n",
        "    ax.text(i-.125, i + 5, str(format((models_accuracy[i]),\".2f\")+\"%\"),\n",
        "            color = 'white', fontweight = 'bold')\n",
        "plt.show()"
      ],
      "metadata": {
        "colab": {
          "base_uri": "https://localhost:8080/",
          "height": 405
        },
        "id": "zncgDrlcP4Xu",
        "outputId": "6fe780c7-f403-4a62-e54e-382f3cd7c84d"
      },
      "execution_count": 238,
      "outputs": [
        {
          "output_type": "display_data",
          "data": {
            "text/plain": [
              "<Figure size 600x360 with 1 Axes>"
            ],
            "image/png": "[encoded data removed]"
          },
          "metadata": {
            "needs_background": "light"
          }
        }
      ]
    },
    {
      "cell_type": "code",
      "source": [
        "models_precision"
      ],
      "metadata": {
        "colab": {
          "base_uri": "https://localhost:8080/"
        },
        "id": "9PajeeRpeHd-",
        "outputId": "7cf851f6-7227-4a20-a3a7-823cd11b170e"
      },
      "execution_count": 246,
      "outputs": [
        {
          "output_type": "execute_result",
          "data": {
            "text/plain": [
              "[40.0, 9.375, 33.33333333333333, 0.0, 12.111801242236025, 0.0]"
            ]
          },
          "metadata": {},
          "execution_count": 246
        }
      ]
    },
    {
      "cell_type": "code",
      "source": [
        "import matplotlib.pyplot as plt\n",
        "import numpy as np\n",
        "\n",
        "N = 6\n",
        "ind = np.arange(N) \n",
        "width = 0.25\n",
        "\n",
        "fig = plt.figure(figsize = (16,12))\n",
        "ax = fig.add_subplot(111)\n",
        "\n",
        "  \n",
        "bar1 = ax.bar(ind, models_accuracy, width, color = 'r')\n",
        "  \n",
        "bar2 = ax.bar(ind+width, models_precision, width, color='g')\n",
        "  \n",
        "bar3 = ax.bar(ind+width*2, models_recall, width, color = 'b')\n",
        "  \n",
        "\n",
        "plt.xlabel(\"Models\")\n",
        "plt.ylabel('Scores')\n",
        "plt.title(\"Players Score\")\n",
        "\n",
        "ax.set_ylabel('Scores')\n",
        "ax.set_xticks(ind+width)\n",
        "ax.set_xticklabels( names )\n",
        "#ax.legend((bar1, bar2, bar3), ('Accuracy', 'Precision', 'Recall') )\n",
        "\n",
        "\n",
        "ax.legend( (bar1[0], bar2[0], bar3[0]), ('Accuracy', 'Precision', 'Recall') )\n",
        "\n",
        "def autolabel(rects):\n",
        "    for rect in rects:\n",
        "        h = rect.get_height()\n",
        "        ax.text(rect.get_x()+rect.get_width()/2., 1.025*h, '%d'%int(h),\n",
        "                ha='center', va='bottom')\n",
        "\n",
        "autolabel(bar1)\n",
        "autolabel(bar2)\n",
        "autolabel(bar3)\n",
        "\n",
        "plt.show()"
      ],
      "metadata": {
        "colab": {
          "base_uri": "https://localhost:8080/",
          "height": 730
        },
        "id": "bpRzEvDDdEKr",
        "outputId": "ebd46262-2169-41db-fe2d-41ef18ad0754"
      },
      "execution_count": 281,
      "outputs": [
        {
          "output_type": "display_data",
          "data": {
            "text/plain": [
              "<Figure size 1152x864 with 1 Axes>"
            ],
            "image/png": "[encoded data removed]"
          },
          "metadata": {
            "needs_background": "light"
          }
        }
      ]
    },
    {
      "cell_type": "code",
      "source": [
        "models_accuracy "
      ],
      "metadata": {
        "colab": {
          "base_uri": "https://localhost:8080/"
        },
        "id": "f1fLsU6FVNB8",
        "outputId": "fc1b4181-d22c-4d82-a750-ac5ecec6068b"
      },
      "execution_count": 173,
      "outputs": [
        {
          "output_type": "execute_result",
          "data": {
            "text/plain": [
              "[95.00860585197934,\n",
              " 74.78260869565217,\n",
              " 95.58528428093645,\n",
              " 95.65217391304348,\n",
              " 79.33110367892976,\n",
              " 95.51839464882943]"
            ]
          },
          "metadata": {},
          "execution_count": 173
        }
      ]
    }
  ],
  "metadata": {
    "kernelspec": {
      "display_name": "Python 3.9.12 ('py')",
      "language": "python",
      "name": "python3"
    },
    "language_info": {
      "codemirror_mode": {
        "name": "ipython",
        "version": 2
      },
      "file_extension": ".py",
      "mimetype": "text/x-python",
      "name": "python",
      "nbconvert_exporter": "python",
      "pygments_lexer": "ipython2",
      "version": "3.9.12"
    },
    "vscode": {
      "interpreter": {
        "hash": "b105d18e1b4e505180aa67f978f4b8e5946d4d1b333115b4d04d4356e732a07a"
      }
    },
    "colab": {
      "name": "Brain_Stroke.ipynb",
      "provenance": [],
      "collapsed_sections": [],
      "include_colab_link": true
    }
  },
  "nbformat": 4,
  "nbformat_minor": 0
}